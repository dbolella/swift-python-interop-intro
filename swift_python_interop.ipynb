{
  "nbformat": 4,
  "nbformat_minor": 0,
  "metadata": {
    "colab": {
      "name": "swift_python_interop.ipynb",
      "provenance": [],
      "collapsed_sections": [
        "nEaaJ6czSr24",
        "HIKkilmeTR-F",
        "9Kwv8TkDNBLQ"
      ],
      "include_colab_link": true
    },
    "kernelspec": {
      "name": "swift",
      "display_name": "Swift"
    }
  },
  "cells": [
    {
      "cell_type": "markdown",
      "metadata": {
        "id": "view-in-github",
        "colab_type": "text"
      },
      "source": [
        "<a href=\"https://colab.research.google.com/github/dbolella/swift-python-interop-intro/blob/master/swift_python_interop.ipynb\" target=\"_parent\"><img src=\"https://colab.research.google.com/assets/colab-badge.svg\" alt=\"Open In Colab\"/></a>"
      ]
    },
    {
      "cell_type": "markdown",
      "metadata": {
        "id": "0H6wnmi-ShQl",
        "colab_type": "text"
      },
      "source": [
        "# Swift and Python Interopability\n",
        "by Danny Bolella\n",
        "\n",
        "To learn more about how this Colab works, check out the associated Medium article at: https://heartbeat.fritz.ai/swifty-ml-an-intro-to-swift-for-tensorflow-9edc7045bc0c"
      ]
    },
    {
      "cell_type": "markdown",
      "metadata": {
        "id": "nEaaJ6czSr24",
        "colab_type": "text"
      },
      "source": [
        "## Importing Python\n",
        "Importing Python is as simple as... well... importing Python!  It's as simple as importing any other swift package. Let's do that now and also see which version Colab is currently defaulting to."
      ]
    },
    {
      "cell_type": "code",
      "metadata": {
        "id": "kZRlD4utdPuX",
        "colab_type": "code",
        "outputId": "19402173-27f2-4f63-d53a-c5d11882f02c",
        "colab": {
          "base_uri": "https://localhost:8080/",
          "height": 51
        }
      },
      "source": [
        "import Python\n",
        "print(Python.version)"
      ],
      "execution_count": 0,
      "outputs": [
        {
          "output_type": "stream",
          "text": [
            "3.6.9 (default, Nov  7 2019, 10:44:02) \r\n",
            "[GCC 8.3.0]\r\n"
          ],
          "name": "stdout"
        }
      ]
    },
    {
      "cell_type": "markdown",
      "metadata": {
        "id": "HIKkilmeTR-F",
        "colab_type": "text"
      },
      "source": [
        "## Importing Python Packages\n",
        "The reason we would be interested in Python interoperability is to leverage the rich and well-established packages written in Python.  Particularly, there are some key packages from the Data Science community that are commonplace.\n",
        "\n",
        "Fortunately, importing the packages we've come to know and love is also as straight-forward as just importing them.\n",
        "\n",
        "When we do, the package is imported as a `PythonObject`, so we set it to a swift variable (much like we would set it to a variable in Python)."
      ]
    },
    {
      "cell_type": "code",
      "metadata": {
        "id": "pEi2Uw8vgxi4",
        "colab_type": "code",
        "outputId": "26f76c40-14e8-4d97-f4fc-5df7c7b97cb7",
        "colab": {
          "base_uri": "https://localhost:8080/",
          "height": 51
        }
      },
      "source": [
        "let np = Python.import(\"numpy\")\n",
        "\n",
        "print(type(of: np))\n",
        "print(np.__version__)"
      ],
      "execution_count": 0,
      "outputs": [
        {
          "output_type": "stream",
          "text": [
            "PythonObject\r\n",
            "1.17.5\r\n"
          ],
          "name": "stdout"
        }
      ]
    },
    {
      "cell_type": "markdown",
      "metadata": {
        "id": "KjMHbEYmK03m",
        "colab_type": "text"
      },
      "source": [
        "When we go to use our package, however, we can use it as if we were writing a command in Python.  Any results would comeback in another `PythonObject`."
      ]
    },
    {
      "cell_type": "code",
      "metadata": {
        "id": "gUPhZSC8KsWo",
        "colab_type": "code",
        "outputId": "13b39b66-8492-43f8-e4b6-0cb3abd36154",
        "colab": {
          "base_uri": "https://localhost:8080/",
          "height": 119
        }
      },
      "source": [
        "let x = np.linspace(0,10,20)\n",
        "\n",
        "print(type(of: x))    //print swift type\n",
        "print(Python.type(x)) //print python type\n",
        "print(x)              //print object"
      ],
      "execution_count": 0,
      "outputs": [
        {
          "output_type": "stream",
          "text": [
            "PythonObject\r\n",
            "<class 'numpy.ndarray'>\r\n",
            "[ 0.          0.52631579  1.05263158  1.57894737  2.10526316  2.63157895\r\n",
            "  3.15789474  3.68421053  4.21052632  4.73684211  5.26315789  5.78947368\r\n",
            "  6.31578947  6.84210526  7.36842105  7.89473684  8.42105263  8.94736842\r\n",
            "  9.47368421 10.        ]\r\n"
          ],
          "name": "stdout"
        }
      ]
    },
    {
      "cell_type": "markdown",
      "metadata": {
        "id": "9Kwv8TkDNBLQ",
        "colab_type": "text"
      },
      "source": [
        "## Running Python Operations\n",
        "\n",
        "If swift detects that we're working with a `PythonObject`, then it will pass operations over to Python to handle."
      ]
    },
    {
      "cell_type": "code",
      "metadata": {
        "id": "ofngBpB7R4hy",
        "colab_type": "code",
        "outputId": "8fc29cda-2d5e-4493-c330-d3418b6d97c8",
        "colab": {
          "base_uri": "https://localhost:8080/",
          "height": 51
        }
      },
      "source": [
        "var x: PythonObject = 100   //explicitly create a PythonObject\n",
        "print(x + 4)                //runs Python addition\n",
        "print(type(of: (x + 4)))    //confirm the result is a PythonObject"
      ],
      "execution_count": 0,
      "outputs": [
        {
          "output_type": "stream",
          "text": [
            "104\r\n",
            "PythonObject\r\n"
          ],
          "name": "stdout"
        }
      ]
    },
    {
      "cell_type": "markdown",
      "metadata": {
        "id": "GhXZbyLRSHzi",
        "colab_type": "text"
      },
      "source": [
        "This translates to packages that handle operators, themselves, such as NumPy"
      ]
    },
    {
      "cell_type": "code",
      "metadata": {
        "id": "NVi3x-BQNGY_",
        "colab_type": "code",
        "outputId": "e8e53be8-0029-4779-f631-01e7887e904c",
        "colab": {
          "base_uri": "https://localhost:8080/",
          "height": 51
        }
      },
      "source": [
        "let big_array = np.random.randint(1, 100, 1000000)\n",
        "print(np.divide(1.0, big_array))  //calling the divide ufunc in NumPy\n",
        "print(1.0 / big_array)            //calling the same ufunc using it's operator"
      ],
      "execution_count": 0,
      "outputs": [
        {
          "output_type": "stream",
          "text": [
            "[0.01111111 0.01162791 0.07142857 ... 0.03703704 0.02857143 0.01369863]\r\n",
            "[0.01111111 0.01162791 0.07142857 ... 0.03703704 0.02857143 0.01369863]\r\n"
          ],
          "name": "stdout"
        }
      ]
    },
    {
      "cell_type": "markdown",
      "metadata": {
        "id": "ZRKAaNWtYK-e",
        "colab_type": "text"
      },
      "source": [
        "##Converting To/From Python and Swift Objects\n",
        "\n",
        "The last bridge to be crossed in Swift/Python interop is converting objects between the two languages.  If we want our Swift data to be manipulated in Python and then expect to bring it back to be used in Swift code, conversion is essential.\n",
        "\n",
        "Fortunately, this, too, is rather simple.\n",
        "\n",
        "Take the example below.  We set a number of `PythonObjects` to a number of swift objects, yet they are automatically converted to Python objects."
      ]
    },
    {
      "cell_type": "code",
      "metadata": {
        "id": "BS8prB0nZhRa",
        "colab_type": "code",
        "outputId": "09199abc-2b70-4561-a91f-b6a9fe966961",
        "colab": {
          "base_uri": "https://localhost:8080/",
          "height": 204
        }
      },
      "source": [
        "let a: PythonObject = \"Swift Rocks!\"\n",
        "let b: PythonObject = [9, 13, 93, 2]\n",
        "let c: PythonObject = [\"one\": [6,5,4], \"two\": [3,2,1]]\n",
        "\n",
        "print(type(of: a))\n",
        "print(Python.type(a))\n",
        "print(a)\n",
        "print()\n",
        "print(type(of: b))\n",
        "print(Python.type(b))\n",
        "print(b)\n",
        "print()\n",
        "print(type(of: c))\n",
        "print(Python.type(c))\n",
        "print(c)"
      ],
      "execution_count": 0,
      "outputs": [
        {
          "output_type": "stream",
          "text": [
            "PythonObject\r\n",
            "<class 'str'>\r\n",
            "Swift Rocks!\r\n",
            "\r\n",
            "PythonObject\r\n",
            "<class 'list'>\r\n",
            "[9, 13, 93, 2]\r\n",
            "\r\n",
            "PythonObject\r\n",
            "<class 'dict'>\r\n",
            "{'one': [6, 5, 4], 'two': [3, 2, 1]}\r\n"
          ],
          "name": "stdout"
        }
      ]
    },
    {
      "cell_type": "markdown",
      "metadata": {
        "id": "RqGAqvLaaX6W",
        "colab_type": "text"
      },
      "source": [
        "And then we can go back to swift."
      ]
    },
    {
      "cell_type": "code",
      "metadata": {
        "id": "8VRdExqja-V3",
        "colab_type": "code",
        "outputId": "44553495-6ae7-4b75-c129-117580e714dd",
        "colab": {
          "base_uri": "https://localhost:8080/",
          "height": 170
        }
      },
      "source": [
        "let aa = String(a)!\n",
        "let bb = Array<Int>(b)!\n",
        "let cc: [String: [Int]] = Dictionary(c)!\n",
        "\n",
        "print(type(of: aa))\n",
        "print(aa)\n",
        "print()\n",
        "print(type(of: bb))\n",
        "print(bb)\n",
        "print()\n",
        "print(type(of: cc))\n",
        "print(cc)\n",
        "print()"
      ],
      "execution_count": 0,
      "outputs": [
        {
          "output_type": "stream",
          "text": [
            "String\r\n",
            "Swift Rocks!\r\n",
            "\r\n",
            "Array<Int>\r\n",
            "[9, 13, 93, 2]\r\n",
            "\r\n",
            "Dictionary<String, Array<Int>>\r\n",
            "[\"two\": [3, 2, 1], \"one\": [6, 5, 4]]\r\n",
            "\r\n"
          ],
          "name": "stdout"
        }
      ]
    },
    {
      "cell_type": "markdown",
      "metadata": {
        "id": "yj1Wr6J8c-lx",
        "colab_type": "text"
      },
      "source": [
        "##Plotting!\n",
        "\n",
        "The last feature I'll show off is using `matplotlib` with Swift.  This is more exclusive to using Swift and Python in Google Colab, but is still pretty cool.  First, we do need to run a special command to enable displaying plots in Google Colab."
      ]
    },
    {
      "cell_type": "code",
      "metadata": {
        "id": "MUCnqJFKdpia",
        "colab_type": "code",
        "outputId": "aef8706e-4e85-4fbe-d501-2aebee8181f3",
        "colab": {
          "base_uri": "https://localhost:8080/",
          "height": 34
        }
      },
      "source": [
        "%include \"EnableIPythonDisplay.swift\"\n",
        "IPythonDisplay.shell.enable_matplotlib(\"inline\")"
      ],
      "execution_count": 0,
      "outputs": [
        {
          "output_type": "execute_result",
          "data": {
            "text/plain": [
              "('inline', 'module://ipykernel.pylab.backend_inline')\n"
            ]
          },
          "metadata": {
            "tags": []
          },
          "execution_count": 3
        }
      ]
    },
    {
      "cell_type": "markdown",
      "metadata": {
        "id": "CdzlrKt7d20N",
        "colab_type": "text"
      },
      "source": [
        "Then, we can simply setup a plot and display it in-line!"
      ]
    },
    {
      "cell_type": "code",
      "metadata": {
        "id": "07d7QTXseC5R",
        "colab_type": "code",
        "outputId": "4f4140af-2fab-44ba-a47e-c16c77b87a40",
        "colab": {
          "base_uri": "https://localhost:8080/",
          "height": 286
        }
      },
      "source": [
        "let plt = Python.import(\"matplotlib.pyplot\")\n",
        "\n",
        "let x = np.linspace(0, 5, 50)\n",
        "let yy = np.linspace(0, 5, 50)//[:, np.newaxis]\n",
        "let y = np.reshape(yy, Python.tuple([1,50]))\n",
        "let z = np.power(np.sin(x), 10) + np.cos(10 + y * x) * np.cos(x)\n",
        "\n",
        "plt.imshow(z, origin: \"lower\", extent: [0, 5, 0, 5], cmap: \"viridis\")\n",
        "plt.colorbar()\n",
        "\n",
        "plt.show()"
      ],
      "execution_count": 0,
      "outputs": [
        {
          "output_type": "display_data",
          "data": {
            "image/png": "[encoded data removed]",
            "text/plain": [
              "<Figure size 432x288 with 2 Axes>"
            ]
          },
          "metadata": {
            "tags": []
          }
        },
        {
          "output_type": "execute_result",
          "data": {
            "text/plain": [
              "None\n"
            ]
          },
          "metadata": {
            "tags": []
          },
          "execution_count": 22
        }
      ]
    }
  ]
}